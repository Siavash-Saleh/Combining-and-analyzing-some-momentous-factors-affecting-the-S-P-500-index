{
 "cells": [
  {
   "cell_type": "markdown",
   "metadata": {},
   "source": [
    "## Analysing some element's effect on S&P 500 :"
   ]
  },
  {
   "cell_type": "code",
   "execution_count": 104,
   "metadata": {},
   "outputs": [],
   "source": [
    "import numpy as np, pandas as pd"
   ]
  },
  {
   "cell_type": "code",
   "execution_count": 105,
   "metadata": {},
   "outputs": [
    {
     "data": {
      "text/html": [
       "<div>\n",
       "<style scoped>\n",
       "    .dataframe tbody tr th:only-of-type {\n",
       "        vertical-align: middle;\n",
       "    }\n",
       "\n",
       "    .dataframe tbody tr th {\n",
       "        vertical-align: top;\n",
       "    }\n",
       "\n",
       "    .dataframe thead th {\n",
       "        text-align: right;\n",
       "    }\n",
       "</style>\n",
       "<table border=\"1\" class=\"dataframe\">\n",
       "  <thead>\n",
       "    <tr style=\"text-align: right;\">\n",
       "      <th></th>\n",
       "      <th>Date</th>\n",
       "      <th>Value</th>\n",
       "    </tr>\n",
       "  </thead>\n",
       "  <tbody>\n",
       "    <tr>\n",
       "      <th>0</th>\n",
       "      <td>2024-06-30</td>\n",
       "      <td>0.0347</td>\n",
       "    </tr>\n",
       "    <tr>\n",
       "      <th>1</th>\n",
       "      <td>2024-05-31</td>\n",
       "      <td>0.0480</td>\n",
       "    </tr>\n",
       "    <tr>\n",
       "      <th>2</th>\n",
       "      <td>2024-04-30</td>\n",
       "      <td>-0.0416</td>\n",
       "    </tr>\n",
       "    <tr>\n",
       "      <th>3</th>\n",
       "      <td>2024-03-31</td>\n",
       "      <td>0.0310</td>\n",
       "    </tr>\n",
       "    <tr>\n",
       "      <th>4</th>\n",
       "      <td>2024-02-29</td>\n",
       "      <td>0.0517</td>\n",
       "    </tr>\n",
       "  </tbody>\n",
       "</table>\n",
       "</div>"
      ],
      "text/plain": [
       "        Date   Value\n",
       "0 2024-06-30  0.0347\n",
       "1 2024-05-31  0.0480\n",
       "2 2024-04-30 -0.0416\n",
       "3 2024-03-31  0.0310\n",
       "4 2024-02-29  0.0517"
      ]
     },
     "execution_count": 105,
     "metadata": {},
     "output_type": "execute_result"
    }
   ],
   "source": [
    "df_index=pd.read_excel(r\"A:\\Documents\\Data Course\\Projects\\S&P 500\\sp_index.xlsx\", header=[2]).iloc[:,1:]\n",
    "df_index.head()"
   ]
  },
  {
   "cell_type": "code",
   "execution_count": 106,
   "metadata": {},
   "outputs": [
    {
     "data": {
      "text/plain": [
       "Timestamp('2024-02-29 00:00:00')"
      ]
     },
     "execution_count": 106,
     "metadata": {},
     "output_type": "execute_result"
    }
   ],
   "source": [
    "df_index['Date'].iloc[4]"
   ]
  },
  {
   "cell_type": "code",
   "execution_count": 107,
   "metadata": {},
   "outputs": [
    {
     "name": "stdout",
     "output_type": "stream",
     "text": [
      "<class 'pandas.core.frame.DataFrame'>\n",
      "RangeIndex: 50 entries, 0 to 49\n",
      "Data columns (total 2 columns):\n",
      " #   Column  Non-Null Count  Dtype         \n",
      "---  ------  --------------  -----         \n",
      " 0   Date    50 non-null     datetime64[ns]\n",
      " 1   Value   50 non-null     float64       \n",
      "dtypes: datetime64[ns](1), float64(1)\n",
      "memory usage: 932.0 bytes\n"
     ]
    }
   ],
   "source": [
    "df_index.info()"
   ]
  },
  {
   "cell_type": "code",
   "execution_count": 108,
   "metadata": {},
   "outputs": [
    {
     "data": {
      "text/plain": [
       "Timestamp('2024-02-29 00:00:00')"
      ]
     },
     "execution_count": 108,
     "metadata": {},
     "output_type": "execute_result"
    }
   ],
   "source": [
    "df_index.loc[4,'Date']"
   ]
  },
  {
   "cell_type": "code",
   "execution_count": 109,
   "metadata": {},
   "outputs": [
    {
     "data": {
      "text/html": [
       "<div>\n",
       "<style scoped>\n",
       "    .dataframe tbody tr th:only-of-type {\n",
       "        vertical-align: middle;\n",
       "    }\n",
       "\n",
       "    .dataframe tbody tr th {\n",
       "        vertical-align: top;\n",
       "    }\n",
       "\n",
       "    .dataframe thead th {\n",
       "        text-align: right;\n",
       "    }\n",
       "</style>\n",
       "<table border=\"1\" class=\"dataframe\">\n",
       "  <thead>\n",
       "    <tr style=\"text-align: right;\">\n",
       "      <th></th>\n",
       "      <th>location</th>\n",
       "      <th>name</th>\n",
       "      <th>freq</th>\n",
       "      <th>weighting</th>\n",
       "      <th>direction</th>\n",
       "      <th>n_stocks</th>\n",
       "      <th>n_stocks_min</th>\n",
       "      <th>date</th>\n",
       "      <th>ret</th>\n",
       "    </tr>\n",
       "  </thead>\n",
       "  <tbody>\n",
       "    <tr>\n",
       "      <th>0</th>\n",
       "      <td>usa</td>\n",
       "      <td>age</td>\n",
       "      <td>monthly</td>\n",
       "      <td>ew</td>\n",
       "      <td>-1</td>\n",
       "      <td>502</td>\n",
       "      <td>8</td>\n",
       "      <td>1926-03-31</td>\n",
       "      <td>-0.066167</td>\n",
       "    </tr>\n",
       "    <tr>\n",
       "      <th>1</th>\n",
       "      <td>usa</td>\n",
       "      <td>age</td>\n",
       "      <td>monthly</td>\n",
       "      <td>ew</td>\n",
       "      <td>-1</td>\n",
       "      <td>505</td>\n",
       "      <td>12</td>\n",
       "      <td>1926-04-30</td>\n",
       "      <td>0.010546</td>\n",
       "    </tr>\n",
       "    <tr>\n",
       "      <th>2</th>\n",
       "      <td>usa</td>\n",
       "      <td>age</td>\n",
       "      <td>monthly</td>\n",
       "      <td>ew</td>\n",
       "      <td>-1</td>\n",
       "      <td>510</td>\n",
       "      <td>17</td>\n",
       "      <td>1926-05-31</td>\n",
       "      <td>-0.020292</td>\n",
       "    </tr>\n",
       "    <tr>\n",
       "      <th>3</th>\n",
       "      <td>usa</td>\n",
       "      <td>age</td>\n",
       "      <td>monthly</td>\n",
       "      <td>ew</td>\n",
       "      <td>-1</td>\n",
       "      <td>512</td>\n",
       "      <td>21</td>\n",
       "      <td>1926-06-30</td>\n",
       "      <td>-0.008927</td>\n",
       "    </tr>\n",
       "    <tr>\n",
       "      <th>4</th>\n",
       "      <td>usa</td>\n",
       "      <td>age</td>\n",
       "      <td>monthly</td>\n",
       "      <td>ew</td>\n",
       "      <td>-1</td>\n",
       "      <td>503</td>\n",
       "      <td>23</td>\n",
       "      <td>1926-07-31</td>\n",
       "      <td>0.017724</td>\n",
       "    </tr>\n",
       "    <tr>\n",
       "      <th>...</th>\n",
       "      <td>...</td>\n",
       "      <td>...</td>\n",
       "      <td>...</td>\n",
       "      <td>...</td>\n",
       "      <td>...</td>\n",
       "      <td>...</td>\n",
       "      <td>...</td>\n",
       "      <td>...</td>\n",
       "      <td>...</td>\n",
       "    </tr>\n",
       "    <tr>\n",
       "      <th>142779</th>\n",
       "      <td>usa</td>\n",
       "      <td>zero_trades_252d</td>\n",
       "      <td>monthly</td>\n",
       "      <td>ew</td>\n",
       "      <td>1</td>\n",
       "      <td>3841</td>\n",
       "      <td>1554</td>\n",
       "      <td>2023-08-31</td>\n",
       "      <td>0.067512</td>\n",
       "    </tr>\n",
       "    <tr>\n",
       "      <th>142780</th>\n",
       "      <td>usa</td>\n",
       "      <td>zero_trades_252d</td>\n",
       "      <td>monthly</td>\n",
       "      <td>ew</td>\n",
       "      <td>1</td>\n",
       "      <td>3832</td>\n",
       "      <td>1548</td>\n",
       "      <td>2023-09-30</td>\n",
       "      <td>0.044560</td>\n",
       "    </tr>\n",
       "    <tr>\n",
       "      <th>142781</th>\n",
       "      <td>usa</td>\n",
       "      <td>zero_trades_252d</td>\n",
       "      <td>monthly</td>\n",
       "      <td>ew</td>\n",
       "      <td>1</td>\n",
       "      <td>3833</td>\n",
       "      <td>1547</td>\n",
       "      <td>2023-10-31</td>\n",
       "      <td>0.064437</td>\n",
       "    </tr>\n",
       "    <tr>\n",
       "      <th>142782</th>\n",
       "      <td>usa</td>\n",
       "      <td>zero_trades_252d</td>\n",
       "      <td>monthly</td>\n",
       "      <td>ew</td>\n",
       "      <td>1</td>\n",
       "      <td>3826</td>\n",
       "      <td>1575</td>\n",
       "      <td>2023-11-30</td>\n",
       "      <td>-0.037080</td>\n",
       "    </tr>\n",
       "    <tr>\n",
       "      <th>142783</th>\n",
       "      <td>usa</td>\n",
       "      <td>zero_trades_252d</td>\n",
       "      <td>monthly</td>\n",
       "      <td>ew</td>\n",
       "      <td>1</td>\n",
       "      <td>3807</td>\n",
       "      <td>1566</td>\n",
       "      <td>2023-12-31</td>\n",
       "      <td>-0.042181</td>\n",
       "    </tr>\n",
       "  </tbody>\n",
       "</table>\n",
       "<p>142784 rows × 9 columns</p>\n",
       "</div>"
      ],
      "text/plain": [
       "       location              name     freq weighting  direction  n_stocks  \\\n",
       "0           usa               age  monthly        ew         -1       502   \n",
       "1           usa               age  monthly        ew         -1       505   \n",
       "2           usa               age  monthly        ew         -1       510   \n",
       "3           usa               age  monthly        ew         -1       512   \n",
       "4           usa               age  monthly        ew         -1       503   \n",
       "...         ...               ...      ...       ...        ...       ...   \n",
       "142779      usa  zero_trades_252d  monthly        ew          1      3841   \n",
       "142780      usa  zero_trades_252d  monthly        ew          1      3832   \n",
       "142781      usa  zero_trades_252d  monthly        ew          1      3833   \n",
       "142782      usa  zero_trades_252d  monthly        ew          1      3826   \n",
       "142783      usa  zero_trades_252d  monthly        ew          1      3807   \n",
       "\n",
       "        n_stocks_min       date       ret  \n",
       "0                  8 1926-03-31 -0.066167  \n",
       "1                 12 1926-04-30  0.010546  \n",
       "2                 17 1926-05-31 -0.020292  \n",
       "3                 21 1926-06-30 -0.008927  \n",
       "4                 23 1926-07-31  0.017724  \n",
       "...              ...        ...       ...  \n",
       "142779          1554 2023-08-31  0.067512  \n",
       "142780          1548 2023-09-30  0.044560  \n",
       "142781          1547 2023-10-31  0.064437  \n",
       "142782          1575 2023-11-30 -0.037080  \n",
       "142783          1566 2023-12-31 -0.042181  \n",
       "\n",
       "[142784 rows x 9 columns]"
      ]
     },
     "execution_count": 109,
     "metadata": {},
     "output_type": "execute_result"
    }
   ],
   "source": [
    "df_factor= pd.read_excel(r\"A:\\Documents\\Data Course\\Projects\\S&P 500\\usa_factor.xlsx\")\n",
    "df_factor"
   ]
  },
  {
   "cell_type": "code",
   "execution_count": 110,
   "metadata": {},
   "outputs": [
    {
     "data": {
      "text/plain": [
       "Timestamp('1926-07-31 00:00:00')"
      ]
     },
     "execution_count": 110,
     "metadata": {},
     "output_type": "execute_result"
    }
   ],
   "source": [
    "df_factor['date'].iloc[4]"
   ]
  },
  {
   "cell_type": "code",
   "execution_count": 111,
   "metadata": {},
   "outputs": [],
   "source": [
    "df_factor['date']=df_factor['date'].dt.strftime(\"%Y/%m/%d\")"
   ]
  },
  {
   "cell_type": "code",
   "execution_count": 112,
   "metadata": {},
   "outputs": [
    {
     "data": {
      "text/html": [
       "<div>\n",
       "<style scoped>\n",
       "    .dataframe tbody tr th:only-of-type {\n",
       "        vertical-align: middle;\n",
       "    }\n",
       "\n",
       "    .dataframe tbody tr th {\n",
       "        vertical-align: top;\n",
       "    }\n",
       "\n",
       "    .dataframe thead th {\n",
       "        text-align: right;\n",
       "    }\n",
       "</style>\n",
       "<table border=\"1\" class=\"dataframe\">\n",
       "  <thead>\n",
       "    <tr style=\"text-align: right;\">\n",
       "      <th></th>\n",
       "      <th>location</th>\n",
       "      <th>name</th>\n",
       "      <th>freq</th>\n",
       "      <th>weighting</th>\n",
       "      <th>direction</th>\n",
       "      <th>n_stocks</th>\n",
       "      <th>n_stocks_min</th>\n",
       "      <th>date</th>\n",
       "      <th>ret</th>\n",
       "    </tr>\n",
       "  </thead>\n",
       "  <tbody>\n",
       "    <tr>\n",
       "      <th>0</th>\n",
       "      <td>usa</td>\n",
       "      <td>age</td>\n",
       "      <td>monthly</td>\n",
       "      <td>ew</td>\n",
       "      <td>-1</td>\n",
       "      <td>502</td>\n",
       "      <td>8</td>\n",
       "      <td>1926/03/31</td>\n",
       "      <td>-0.066167</td>\n",
       "    </tr>\n",
       "    <tr>\n",
       "      <th>1</th>\n",
       "      <td>usa</td>\n",
       "      <td>age</td>\n",
       "      <td>monthly</td>\n",
       "      <td>ew</td>\n",
       "      <td>-1</td>\n",
       "      <td>505</td>\n",
       "      <td>12</td>\n",
       "      <td>1926/04/30</td>\n",
       "      <td>0.010546</td>\n",
       "    </tr>\n",
       "    <tr>\n",
       "      <th>2</th>\n",
       "      <td>usa</td>\n",
       "      <td>age</td>\n",
       "      <td>monthly</td>\n",
       "      <td>ew</td>\n",
       "      <td>-1</td>\n",
       "      <td>510</td>\n",
       "      <td>17</td>\n",
       "      <td>1926/05/31</td>\n",
       "      <td>-0.020292</td>\n",
       "    </tr>\n",
       "    <tr>\n",
       "      <th>3</th>\n",
       "      <td>usa</td>\n",
       "      <td>age</td>\n",
       "      <td>monthly</td>\n",
       "      <td>ew</td>\n",
       "      <td>-1</td>\n",
       "      <td>512</td>\n",
       "      <td>21</td>\n",
       "      <td>1926/06/30</td>\n",
       "      <td>-0.008927</td>\n",
       "    </tr>\n",
       "    <tr>\n",
       "      <th>4</th>\n",
       "      <td>usa</td>\n",
       "      <td>age</td>\n",
       "      <td>monthly</td>\n",
       "      <td>ew</td>\n",
       "      <td>-1</td>\n",
       "      <td>503</td>\n",
       "      <td>23</td>\n",
       "      <td>1926/07/31</td>\n",
       "      <td>0.017724</td>\n",
       "    </tr>\n",
       "  </tbody>\n",
       "</table>\n",
       "</div>"
      ],
      "text/plain": [
       "  location name     freq weighting  direction  n_stocks  n_stocks_min  \\\n",
       "0      usa  age  monthly        ew         -1       502             8   \n",
       "1      usa  age  monthly        ew         -1       505            12   \n",
       "2      usa  age  monthly        ew         -1       510            17   \n",
       "3      usa  age  monthly        ew         -1       512            21   \n",
       "4      usa  age  monthly        ew         -1       503            23   \n",
       "\n",
       "         date       ret  \n",
       "0  1926/03/31 -0.066167  \n",
       "1  1926/04/30  0.010546  \n",
       "2  1926/05/31 -0.020292  \n",
       "3  1926/06/30 -0.008927  \n",
       "4  1926/07/31  0.017724  "
      ]
     },
     "execution_count": 112,
     "metadata": {},
     "output_type": "execute_result"
    }
   ],
   "source": [
    "df_factor.head()"
   ]
  },
  {
   "cell_type": "code",
   "execution_count": 113,
   "metadata": {},
   "outputs": [
    {
     "data": {
      "text/html": [
       "<div>\n",
       "<style scoped>\n",
       "    .dataframe tbody tr th:only-of-type {\n",
       "        vertical-align: middle;\n",
       "    }\n",
       "\n",
       "    .dataframe tbody tr th {\n",
       "        vertical-align: top;\n",
       "    }\n",
       "\n",
       "    .dataframe thead th {\n",
       "        text-align: right;\n",
       "    }\n",
       "</style>\n",
       "<table border=\"1\" class=\"dataframe\">\n",
       "  <thead>\n",
       "    <tr style=\"text-align: right;\">\n",
       "      <th></th>\n",
       "      <th>location</th>\n",
       "      <th>name</th>\n",
       "      <th>freq</th>\n",
       "      <th>weighting</th>\n",
       "      <th>direction</th>\n",
       "      <th>n_stocks</th>\n",
       "      <th>n_stocks_min</th>\n",
       "      <th>date</th>\n",
       "      <th>ret</th>\n",
       "    </tr>\n",
       "  </thead>\n",
       "  <tbody>\n",
       "    <tr>\n",
       "      <th>142779</th>\n",
       "      <td>usa</td>\n",
       "      <td>zero_trades_252d</td>\n",
       "      <td>monthly</td>\n",
       "      <td>ew</td>\n",
       "      <td>1</td>\n",
       "      <td>3841</td>\n",
       "      <td>1554</td>\n",
       "      <td>2023/08/31</td>\n",
       "      <td>0.067512</td>\n",
       "    </tr>\n",
       "    <tr>\n",
       "      <th>142780</th>\n",
       "      <td>usa</td>\n",
       "      <td>zero_trades_252d</td>\n",
       "      <td>monthly</td>\n",
       "      <td>ew</td>\n",
       "      <td>1</td>\n",
       "      <td>3832</td>\n",
       "      <td>1548</td>\n",
       "      <td>2023/09/30</td>\n",
       "      <td>0.044560</td>\n",
       "    </tr>\n",
       "    <tr>\n",
       "      <th>142781</th>\n",
       "      <td>usa</td>\n",
       "      <td>zero_trades_252d</td>\n",
       "      <td>monthly</td>\n",
       "      <td>ew</td>\n",
       "      <td>1</td>\n",
       "      <td>3833</td>\n",
       "      <td>1547</td>\n",
       "      <td>2023/10/31</td>\n",
       "      <td>0.064437</td>\n",
       "    </tr>\n",
       "    <tr>\n",
       "      <th>142782</th>\n",
       "      <td>usa</td>\n",
       "      <td>zero_trades_252d</td>\n",
       "      <td>monthly</td>\n",
       "      <td>ew</td>\n",
       "      <td>1</td>\n",
       "      <td>3826</td>\n",
       "      <td>1575</td>\n",
       "      <td>2023/11/30</td>\n",
       "      <td>-0.037080</td>\n",
       "    </tr>\n",
       "    <tr>\n",
       "      <th>142783</th>\n",
       "      <td>usa</td>\n",
       "      <td>zero_trades_252d</td>\n",
       "      <td>monthly</td>\n",
       "      <td>ew</td>\n",
       "      <td>1</td>\n",
       "      <td>3807</td>\n",
       "      <td>1566</td>\n",
       "      <td>2023/12/31</td>\n",
       "      <td>-0.042181</td>\n",
       "    </tr>\n",
       "  </tbody>\n",
       "</table>\n",
       "</div>"
      ],
      "text/plain": [
       "       location              name     freq weighting  direction  n_stocks  \\\n",
       "142779      usa  zero_trades_252d  monthly        ew          1      3841   \n",
       "142780      usa  zero_trades_252d  monthly        ew          1      3832   \n",
       "142781      usa  zero_trades_252d  monthly        ew          1      3833   \n",
       "142782      usa  zero_trades_252d  monthly        ew          1      3826   \n",
       "142783      usa  zero_trades_252d  monthly        ew          1      3807   \n",
       "\n",
       "        n_stocks_min        date       ret  \n",
       "142779          1554  2023/08/31  0.067512  \n",
       "142780          1548  2023/09/30  0.044560  \n",
       "142781          1547  2023/10/31  0.064437  \n",
       "142782          1575  2023/11/30 -0.037080  \n",
       "142783          1566  2023/12/31 -0.042181  "
      ]
     },
     "execution_count": 113,
     "metadata": {},
     "output_type": "execute_result"
    }
   ],
   "source": [
    "df_factor.tail()"
   ]
  },
  {
   "cell_type": "code",
   "execution_count": 114,
   "metadata": {},
   "outputs": [
    {
     "data": {
      "text/html": [
       "<div>\n",
       "<style scoped>\n",
       "    .dataframe tbody tr th:only-of-type {\n",
       "        vertical-align: middle;\n",
       "    }\n",
       "\n",
       "    .dataframe tbody tr th {\n",
       "        vertical-align: top;\n",
       "    }\n",
       "\n",
       "    .dataframe thead th {\n",
       "        text-align: right;\n",
       "    }\n",
       "</style>\n",
       "<table border=\"1\" class=\"dataframe\">\n",
       "  <thead>\n",
       "    <tr style=\"text-align: right;\">\n",
       "      <th></th>\n",
       "      <th>name</th>\n",
       "      <th>date</th>\n",
       "      <th>ret</th>\n",
       "    </tr>\n",
       "  </thead>\n",
       "  <tbody>\n",
       "    <tr>\n",
       "      <th>142779</th>\n",
       "      <td>zero_trades_252d</td>\n",
       "      <td>2023/08/31</td>\n",
       "      <td>0.067512</td>\n",
       "    </tr>\n",
       "    <tr>\n",
       "      <th>142780</th>\n",
       "      <td>zero_trades_252d</td>\n",
       "      <td>2023/09/30</td>\n",
       "      <td>0.044560</td>\n",
       "    </tr>\n",
       "    <tr>\n",
       "      <th>142781</th>\n",
       "      <td>zero_trades_252d</td>\n",
       "      <td>2023/10/31</td>\n",
       "      <td>0.064437</td>\n",
       "    </tr>\n",
       "    <tr>\n",
       "      <th>142782</th>\n",
       "      <td>zero_trades_252d</td>\n",
       "      <td>2023/11/30</td>\n",
       "      <td>-0.037080</td>\n",
       "    </tr>\n",
       "    <tr>\n",
       "      <th>142783</th>\n",
       "      <td>zero_trades_252d</td>\n",
       "      <td>2023/12/31</td>\n",
       "      <td>-0.042181</td>\n",
       "    </tr>\n",
       "  </tbody>\n",
       "</table>\n",
       "</div>"
      ],
      "text/plain": [
       "                    name        date       ret\n",
       "142779  zero_trades_252d  2023/08/31  0.067512\n",
       "142780  zero_trades_252d  2023/09/30  0.044560\n",
       "142781  zero_trades_252d  2023/10/31  0.064437\n",
       "142782  zero_trades_252d  2023/11/30 -0.037080\n",
       "142783  zero_trades_252d  2023/12/31 -0.042181"
      ]
     },
     "execution_count": 114,
     "metadata": {},
     "output_type": "execute_result"
    }
   ],
   "source": [
    "df_factor1=df_factor[['name','date','ret']]\n",
    "df_factor1.tail()"
   ]
  },
  {
   "cell_type": "code",
   "execution_count": 115,
   "metadata": {},
   "outputs": [
    {
     "data": {
      "text/plain": [
       "'1926/07/31'"
      ]
     },
     "execution_count": 115,
     "metadata": {},
     "output_type": "execute_result"
    }
   ],
   "source": [
    "df_factor1['date'].iloc[4]"
   ]
  },
  {
   "cell_type": "code",
   "execution_count": 116,
   "metadata": {},
   "outputs": [
    {
     "data": {
      "text/plain": [
       "['market_equity',\n",
       " 'prc',\n",
       " 'rmax1_21d',\n",
       " 'ret_1_0',\n",
       " 'zero_trades_21d',\n",
       " 'iskew_capm_21d',\n",
       " 'ivol_capm_21d',\n",
       " 'rvol_21d',\n",
       " 'rskew_21d',\n",
       " 'bidaskhl_21d']"
      ]
     },
     "execution_count": 116,
     "metadata": {},
     "output_type": "execute_result"
    }
   ],
   "source": [
    "list_factor= list(df_factor1['name'].value_counts().index[:10])\n",
    "list_factor"
   ]
  },
  {
   "cell_type": "code",
   "execution_count": 117,
   "metadata": {},
   "outputs": [
    {
     "data": {
      "text/html": [
       "<div>\n",
       "<style scoped>\n",
       "    .dataframe tbody tr th:only-of-type {\n",
       "        vertical-align: middle;\n",
       "    }\n",
       "\n",
       "    .dataframe tbody tr th {\n",
       "        vertical-align: top;\n",
       "    }\n",
       "\n",
       "    .dataframe thead th {\n",
       "        text-align: right;\n",
       "    }\n",
       "</style>\n",
       "<table border=\"1\" class=\"dataframe\">\n",
       "  <thead>\n",
       "    <tr style=\"text-align: right;\">\n",
       "      <th></th>\n",
       "      <th>name</th>\n",
       "      <th>date</th>\n",
       "      <th>ret</th>\n",
       "    </tr>\n",
       "  </thead>\n",
       "  <tbody>\n",
       "    <tr>\n",
       "      <th>14819</th>\n",
       "      <td>bidaskhl_21d</td>\n",
       "      <td>1926/02/28</td>\n",
       "      <td>-0.018325</td>\n",
       "    </tr>\n",
       "    <tr>\n",
       "      <th>14820</th>\n",
       "      <td>bidaskhl_21d</td>\n",
       "      <td>1926/03/31</td>\n",
       "      <td>-0.051434</td>\n",
       "    </tr>\n",
       "    <tr>\n",
       "      <th>14821</th>\n",
       "      <td>bidaskhl_21d</td>\n",
       "      <td>1926/04/30</td>\n",
       "      <td>-0.012080</td>\n",
       "    </tr>\n",
       "    <tr>\n",
       "      <th>14822</th>\n",
       "      <td>bidaskhl_21d</td>\n",
       "      <td>1926/05/31</td>\n",
       "      <td>-0.019390</td>\n",
       "    </tr>\n",
       "    <tr>\n",
       "      <th>14823</th>\n",
       "      <td>bidaskhl_21d</td>\n",
       "      <td>1926/06/30</td>\n",
       "      <td>-0.001184</td>\n",
       "    </tr>\n",
       "    <tr>\n",
       "      <th>...</th>\n",
       "      <td>...</td>\n",
       "      <td>...</td>\n",
       "      <td>...</td>\n",
       "    </tr>\n",
       "    <tr>\n",
       "      <th>141608</th>\n",
       "      <td>zero_trades_21d</td>\n",
       "      <td>2023/08/31</td>\n",
       "      <td>0.075131</td>\n",
       "    </tr>\n",
       "    <tr>\n",
       "      <th>141609</th>\n",
       "      <td>zero_trades_21d</td>\n",
       "      <td>2023/09/30</td>\n",
       "      <td>0.048954</td>\n",
       "    </tr>\n",
       "    <tr>\n",
       "      <th>141610</th>\n",
       "      <td>zero_trades_21d</td>\n",
       "      <td>2023/10/31</td>\n",
       "      <td>0.045431</td>\n",
       "    </tr>\n",
       "    <tr>\n",
       "      <th>141611</th>\n",
       "      <td>zero_trades_21d</td>\n",
       "      <td>2023/11/30</td>\n",
       "      <td>-0.026700</td>\n",
       "    </tr>\n",
       "    <tr>\n",
       "      <th>141612</th>\n",
       "      <td>zero_trades_21d</td>\n",
       "      <td>2023/12/31</td>\n",
       "      <td>-0.017082</td>\n",
       "    </tr>\n",
       "  </tbody>\n",
       "</table>\n",
       "<p>11752 rows × 3 columns</p>\n",
       "</div>"
      ],
      "text/plain": [
       "                   name        date       ret\n",
       "14819      bidaskhl_21d  1926/02/28 -0.018325\n",
       "14820      bidaskhl_21d  1926/03/31 -0.051434\n",
       "14821      bidaskhl_21d  1926/04/30 -0.012080\n",
       "14822      bidaskhl_21d  1926/05/31 -0.019390\n",
       "14823      bidaskhl_21d  1926/06/30 -0.001184\n",
       "...                 ...         ...       ...\n",
       "141608  zero_trades_21d  2023/08/31  0.075131\n",
       "141609  zero_trades_21d  2023/09/30  0.048954\n",
       "141610  zero_trades_21d  2023/10/31  0.045431\n",
       "141611  zero_trades_21d  2023/11/30 -0.026700\n",
       "141612  zero_trades_21d  2023/12/31 -0.017082\n",
       "\n",
       "[11752 rows x 3 columns]"
      ]
     },
     "execution_count": 117,
     "metadata": {},
     "output_type": "execute_result"
    }
   ],
   "source": [
    "df_factor2=df_factor1[df_factor1['name'].isin(list_factor)]\n",
    "df_factor2"
   ]
  },
  {
   "cell_type": "code",
   "execution_count": 118,
   "metadata": {},
   "outputs": [
    {
     "name": "stdout",
     "output_type": "stream",
     "text": [
      "<class 'pandas.core.frame.DataFrame'>\n",
      "Index: 11752 entries, 14819 to 141612\n",
      "Data columns (total 3 columns):\n",
      " #   Column  Non-Null Count  Dtype  \n",
      "---  ------  --------------  -----  \n",
      " 0   name    11752 non-null  object \n",
      " 1   date    11752 non-null  object \n",
      " 2   ret     11752 non-null  float64\n",
      "dtypes: float64(1), object(2)\n",
      "memory usage: 367.2+ KB\n"
     ]
    }
   ],
   "source": [
    "df_factor2.info()"
   ]
  },
  {
   "cell_type": "code",
   "execution_count": 119,
   "metadata": {},
   "outputs": [
    {
     "name": "stdout",
     "output_type": "stream",
     "text": [
      "<class 'pandas.core.frame.DataFrame'>\n",
      "RangeIndex: 142784 entries, 0 to 142783\n",
      "Data columns (total 9 columns):\n",
      " #   Column        Non-Null Count   Dtype  \n",
      "---  ------        --------------   -----  \n",
      " 0   location      142784 non-null  object \n",
      " 1   name          142784 non-null  object \n",
      " 2   freq          142784 non-null  object \n",
      " 3   weighting     142784 non-null  object \n",
      " 4   direction     142784 non-null  int64  \n",
      " 5   n_stocks      142784 non-null  int64  \n",
      " 6   n_stocks_min  142784 non-null  int64  \n",
      " 7   date          142784 non-null  object \n",
      " 8   ret           142784 non-null  float64\n",
      "dtypes: float64(1), int64(3), object(5)\n",
      "memory usage: 9.8+ MB\n"
     ]
    }
   ],
   "source": [
    "df_factor.info()"
   ]
  },
  {
   "cell_type": "code",
   "execution_count": 120,
   "metadata": {},
   "outputs": [],
   "source": [
    "# another way: df_factor2=df_factor1['date'].apply(lambda x: x in list_factor)"
   ]
  },
  {
   "cell_type": "code",
   "execution_count": 121,
   "metadata": {},
   "outputs": [
    {
     "data": {
      "text/plain": [
       "'2018/10/31'"
      ]
     },
     "execution_count": 121,
     "metadata": {},
     "output_type": "execute_result"
    }
   ],
   "source": [
    "df_factor2['date'].iloc[1112]"
   ]
  },
  {
   "cell_type": "code",
   "execution_count": 122,
   "metadata": {},
   "outputs": [
    {
     "data": {
      "text/plain": [
       "0     2024\n",
       "1     2024\n",
       "2     2024\n",
       "3     2024\n",
       "4     2024\n",
       "5     2024\n",
       "6     2023\n",
       "7     2023\n",
       "8     2023\n",
       "9     2023\n",
       "10    2023\n",
       "11    2023\n",
       "12    2023\n",
       "13    2023\n",
       "14    2023\n",
       "15    2023\n",
       "16    2023\n",
       "17    2023\n",
       "18    2022\n",
       "19    2022\n",
       "20    2022\n",
       "21    2022\n",
       "22    2022\n",
       "23    2022\n",
       "24    2022\n",
       "25    2022\n",
       "26    2022\n",
       "27    2022\n",
       "28    2022\n",
       "29    2022\n",
       "30    2021\n",
       "31    2021\n",
       "32    2021\n",
       "33    2021\n",
       "34    2021\n",
       "35    2021\n",
       "36    2021\n",
       "37    2021\n",
       "38    2021\n",
       "39    2021\n",
       "40    2021\n",
       "41    2021\n",
       "42    2020\n",
       "43    2020\n",
       "44    2020\n",
       "45    2020\n",
       "46    2020\n",
       "47    2020\n",
       "48    2020\n",
       "49    2020\n",
       "Name: Date, dtype: int64"
      ]
     },
     "execution_count": 122,
     "metadata": {},
     "output_type": "execute_result"
    }
   ],
   "source": [
    "list_year= df_index['Date'].apply(lambda x : x.year)\n",
    "list_year"
   ]
  },
  {
   "cell_type": "code",
   "execution_count": 123,
   "metadata": {},
   "outputs": [
    {
     "data": {
      "text/plain": [
       "False"
      ]
     },
     "execution_count": 123,
     "metadata": {},
     "output_type": "execute_result"
    }
   ],
   "source": [
    "int(df_factor2['date'].str[:4][141610])== list_year[49]"
   ]
  },
  {
   "cell_type": "code",
   "execution_count": 124,
   "metadata": {},
   "outputs": [
    {
     "data": {
      "text/plain": [
       "2023"
      ]
     },
     "execution_count": 124,
     "metadata": {},
     "output_type": "execute_result"
    }
   ],
   "source": [
    "list_year[10]"
   ]
  },
  {
   "cell_type": "code",
   "execution_count": 125,
   "metadata": {},
   "outputs": [
    {
     "data": {
      "text/plain": [
       "True"
      ]
     },
     "execution_count": 125,
     "metadata": {},
     "output_type": "execute_result"
    }
   ],
   "source": [
    "int(df_factor2['date'].str[:4][141610])==list_year[10]"
   ]
  },
  {
   "cell_type": "code",
   "execution_count": 126,
   "metadata": {},
   "outputs": [
    {
     "data": {
      "text/html": [
       "<div>\n",
       "<style scoped>\n",
       "    .dataframe tbody tr th:only-of-type {\n",
       "        vertical-align: middle;\n",
       "    }\n",
       "\n",
       "    .dataframe tbody tr th {\n",
       "        vertical-align: top;\n",
       "    }\n",
       "\n",
       "    .dataframe thead th {\n",
       "        text-align: right;\n",
       "    }\n",
       "</style>\n",
       "<table border=\"1\" class=\"dataframe\">\n",
       "  <thead>\n",
       "    <tr style=\"text-align: right;\">\n",
       "      <th></th>\n",
       "      <th>name</th>\n",
       "      <th>date</th>\n",
       "      <th>ret</th>\n",
       "    </tr>\n",
       "  </thead>\n",
       "  <tbody>\n",
       "    <tr>\n",
       "      <th>15946</th>\n",
       "      <td>bidaskhl_21d</td>\n",
       "      <td>2020/01/31</td>\n",
       "      <td>0.004402</td>\n",
       "    </tr>\n",
       "    <tr>\n",
       "      <th>15947</th>\n",
       "      <td>bidaskhl_21d</td>\n",
       "      <td>2020/02/29</td>\n",
       "      <td>0.013359</td>\n",
       "    </tr>\n",
       "    <tr>\n",
       "      <th>15948</th>\n",
       "      <td>bidaskhl_21d</td>\n",
       "      <td>2020/03/31</td>\n",
       "      <td>-0.063263</td>\n",
       "    </tr>\n",
       "    <tr>\n",
       "      <th>15949</th>\n",
       "      <td>bidaskhl_21d</td>\n",
       "      <td>2020/04/30</td>\n",
       "      <td>0.105975</td>\n",
       "    </tr>\n",
       "    <tr>\n",
       "      <th>15950</th>\n",
       "      <td>bidaskhl_21d</td>\n",
       "      <td>2020/05/31</td>\n",
       "      <td>0.035376</td>\n",
       "    </tr>\n",
       "    <tr>\n",
       "      <th>...</th>\n",
       "      <td>...</td>\n",
       "      <td>...</td>\n",
       "      <td>...</td>\n",
       "    </tr>\n",
       "    <tr>\n",
       "      <th>141608</th>\n",
       "      <td>zero_trades_21d</td>\n",
       "      <td>2023/08/31</td>\n",
       "      <td>0.075131</td>\n",
       "    </tr>\n",
       "    <tr>\n",
       "      <th>141609</th>\n",
       "      <td>zero_trades_21d</td>\n",
       "      <td>2023/09/30</td>\n",
       "      <td>0.048954</td>\n",
       "    </tr>\n",
       "    <tr>\n",
       "      <th>141610</th>\n",
       "      <td>zero_trades_21d</td>\n",
       "      <td>2023/10/31</td>\n",
       "      <td>0.045431</td>\n",
       "    </tr>\n",
       "    <tr>\n",
       "      <th>141611</th>\n",
       "      <td>zero_trades_21d</td>\n",
       "      <td>2023/11/30</td>\n",
       "      <td>-0.026700</td>\n",
       "    </tr>\n",
       "    <tr>\n",
       "      <th>141612</th>\n",
       "      <td>zero_trades_21d</td>\n",
       "      <td>2023/12/31</td>\n",
       "      <td>-0.017082</td>\n",
       "    </tr>\n",
       "  </tbody>\n",
       "</table>\n",
       "<p>480 rows × 3 columns</p>\n",
       "</div>"
      ],
      "text/plain": [
       "                   name        date       ret\n",
       "15946      bidaskhl_21d  2020/01/31  0.004402\n",
       "15947      bidaskhl_21d  2020/02/29  0.013359\n",
       "15948      bidaskhl_21d  2020/03/31 -0.063263\n",
       "15949      bidaskhl_21d  2020/04/30  0.105975\n",
       "15950      bidaskhl_21d  2020/05/31  0.035376\n",
       "...                 ...         ...       ...\n",
       "141608  zero_trades_21d  2023/08/31  0.075131\n",
       "141609  zero_trades_21d  2023/09/30  0.048954\n",
       "141610  zero_trades_21d  2023/10/31  0.045431\n",
       "141611  zero_trades_21d  2023/11/30 -0.026700\n",
       "141612  zero_trades_21d  2023/12/31 -0.017082\n",
       "\n",
       "[480 rows x 3 columns]"
      ]
     },
     "execution_count": 126,
     "metadata": {},
     "output_type": "execute_result"
    }
   ],
   "source": [
    "a= df_factor2['date'].apply(lambda x: int(x[:4])).isin (list_year)\n",
    "df_factor3= df_factor2[a]\n",
    "df_factor3\n"
   ]
  },
  {
   "cell_type": "code",
   "execution_count": 127,
   "metadata": {},
   "outputs": [
    {
     "name": "stderr",
     "output_type": "stream",
     "text": [
      "C:\\Users\\siava\\AppData\\Local\\Temp\\ipykernel_10476\\987691820.py:1: SettingWithCopyWarning: \n",
      "A value is trying to be set on a copy of a slice from a DataFrame.\n",
      "Try using .loc[row_indexer,col_indexer] = value instead\n",
      "\n",
      "See the caveats in the documentation: https://pandas.pydata.org/pandas-docs/stable/user_guide/indexing.html#returning-a-view-versus-a-copy\n",
      "  df_factor3['new_date']=df_factor3['date'].str[:7]\n"
     ]
    },
    {
     "data": {
      "text/html": [
       "<div>\n",
       "<style scoped>\n",
       "    .dataframe tbody tr th:only-of-type {\n",
       "        vertical-align: middle;\n",
       "    }\n",
       "\n",
       "    .dataframe tbody tr th {\n",
       "        vertical-align: top;\n",
       "    }\n",
       "\n",
       "    .dataframe thead th {\n",
       "        text-align: right;\n",
       "    }\n",
       "</style>\n",
       "<table border=\"1\" class=\"dataframe\">\n",
       "  <thead>\n",
       "    <tr style=\"text-align: right;\">\n",
       "      <th></th>\n",
       "      <th>name</th>\n",
       "      <th>date</th>\n",
       "      <th>ret</th>\n",
       "      <th>new_date</th>\n",
       "    </tr>\n",
       "  </thead>\n",
       "  <tbody>\n",
       "    <tr>\n",
       "      <th>15946</th>\n",
       "      <td>bidaskhl_21d</td>\n",
       "      <td>2020/01/31</td>\n",
       "      <td>0.004402</td>\n",
       "      <td>2020/01</td>\n",
       "    </tr>\n",
       "    <tr>\n",
       "      <th>15947</th>\n",
       "      <td>bidaskhl_21d</td>\n",
       "      <td>2020/02/29</td>\n",
       "      <td>0.013359</td>\n",
       "      <td>2020/02</td>\n",
       "    </tr>\n",
       "    <tr>\n",
       "      <th>15948</th>\n",
       "      <td>bidaskhl_21d</td>\n",
       "      <td>2020/03/31</td>\n",
       "      <td>-0.063263</td>\n",
       "      <td>2020/03</td>\n",
       "    </tr>\n",
       "    <tr>\n",
       "      <th>15949</th>\n",
       "      <td>bidaskhl_21d</td>\n",
       "      <td>2020/04/30</td>\n",
       "      <td>0.105975</td>\n",
       "      <td>2020/04</td>\n",
       "    </tr>\n",
       "    <tr>\n",
       "      <th>15950</th>\n",
       "      <td>bidaskhl_21d</td>\n",
       "      <td>2020/05/31</td>\n",
       "      <td>0.035376</td>\n",
       "      <td>2020/05</td>\n",
       "    </tr>\n",
       "  </tbody>\n",
       "</table>\n",
       "</div>"
      ],
      "text/plain": [
       "               name        date       ret new_date\n",
       "15946  bidaskhl_21d  2020/01/31  0.004402  2020/01\n",
       "15947  bidaskhl_21d  2020/02/29  0.013359  2020/02\n",
       "15948  bidaskhl_21d  2020/03/31 -0.063263  2020/03\n",
       "15949  bidaskhl_21d  2020/04/30  0.105975  2020/04\n",
       "15950  bidaskhl_21d  2020/05/31  0.035376  2020/05"
      ]
     },
     "execution_count": 127,
     "metadata": {},
     "output_type": "execute_result"
    }
   ],
   "source": [
    "df_factor3['new_date']=df_factor3['date'].str[:7]\n",
    "df_factor3.head()"
   ]
  },
  {
   "cell_type": "code",
   "execution_count": 128,
   "metadata": {},
   "outputs": [
    {
     "data": {
      "text/html": [
       "<div>\n",
       "<style scoped>\n",
       "    .dataframe tbody tr th:only-of-type {\n",
       "        vertical-align: middle;\n",
       "    }\n",
       "\n",
       "    .dataframe tbody tr th {\n",
       "        vertical-align: top;\n",
       "    }\n",
       "\n",
       "    .dataframe thead th {\n",
       "        text-align: right;\n",
       "    }\n",
       "</style>\n",
       "<table border=\"1\" class=\"dataframe\">\n",
       "  <thead>\n",
       "    <tr style=\"text-align: right;\">\n",
       "      <th></th>\n",
       "      <th>Date</th>\n",
       "      <th>Value</th>\n",
       "    </tr>\n",
       "  </thead>\n",
       "  <tbody>\n",
       "    <tr>\n",
       "      <th>0</th>\n",
       "      <td>2024-06-30</td>\n",
       "      <td>0.0347</td>\n",
       "    </tr>\n",
       "    <tr>\n",
       "      <th>1</th>\n",
       "      <td>2024-05-31</td>\n",
       "      <td>0.0480</td>\n",
       "    </tr>\n",
       "    <tr>\n",
       "      <th>2</th>\n",
       "      <td>2024-04-30</td>\n",
       "      <td>-0.0416</td>\n",
       "    </tr>\n",
       "    <tr>\n",
       "      <th>3</th>\n",
       "      <td>2024-03-31</td>\n",
       "      <td>0.0310</td>\n",
       "    </tr>\n",
       "    <tr>\n",
       "      <th>4</th>\n",
       "      <td>2024-02-29</td>\n",
       "      <td>0.0517</td>\n",
       "    </tr>\n",
       "  </tbody>\n",
       "</table>\n",
       "</div>"
      ],
      "text/plain": [
       "        Date   Value\n",
       "0 2024-06-30  0.0347\n",
       "1 2024-05-31  0.0480\n",
       "2 2024-04-30 -0.0416\n",
       "3 2024-03-31  0.0310\n",
       "4 2024-02-29  0.0517"
      ]
     },
     "execution_count": 128,
     "metadata": {},
     "output_type": "execute_result"
    }
   ],
   "source": [
    "df_index.head()"
   ]
  },
  {
   "cell_type": "code",
   "execution_count": 129,
   "metadata": {},
   "outputs": [
    {
     "data": {
      "text/plain": [
       "0     2024\n",
       "1     2024\n",
       "2     2024\n",
       "3     2024\n",
       "4     2024\n",
       "5     2024\n",
       "6     2023\n",
       "7     2023\n",
       "8     2023\n",
       "9     2023\n",
       "10    2023\n",
       "11    2023\n",
       "12    2023\n",
       "13    2023\n",
       "14    2023\n",
       "15    2023\n",
       "16    2023\n",
       "17    2023\n",
       "18    2022\n",
       "19    2022\n",
       "20    2022\n",
       "21    2022\n",
       "22    2022\n",
       "23    2022\n",
       "24    2022\n",
       "25    2022\n",
       "26    2022\n",
       "27    2022\n",
       "28    2022\n",
       "29    2022\n",
       "30    2021\n",
       "31    2021\n",
       "32    2021\n",
       "33    2021\n",
       "34    2021\n",
       "35    2021\n",
       "36    2021\n",
       "37    2021\n",
       "38    2021\n",
       "39    2021\n",
       "40    2021\n",
       "41    2021\n",
       "42    2020\n",
       "43    2020\n",
       "44    2020\n",
       "45    2020\n",
       "46    2020\n",
       "47    2020\n",
       "48    2020\n",
       "49    2020\n",
       "Name: Date, dtype: object"
      ]
     },
     "execution_count": 129,
     "metadata": {},
     "output_type": "execute_result"
    }
   ],
   "source": [
    "df_index['Date'].apply(lambda x: str(x.year))"
   ]
  },
  {
   "cell_type": "code",
   "execution_count": 130,
   "metadata": {},
   "outputs": [
    {
     "data": {
      "text/plain": [
       "'2024/06'"
      ]
     },
     "execution_count": 130,
     "metadata": {},
     "output_type": "execute_result"
    }
   ],
   "source": [
    "str(df_index.iloc[0,0]).replace('-','/')[:7]"
   ]
  },
  {
   "cell_type": "code",
   "execution_count": 131,
   "metadata": {},
   "outputs": [],
   "source": [
    "b= df_index['Date'].apply(lambda x: str(x).replace('-','/')[:7])\n",
    "b.head()\n",
    "df_index['value_date']= b"
   ]
  },
  {
   "cell_type": "code",
   "execution_count": 132,
   "metadata": {},
   "outputs": [
    {
     "data": {
      "text/html": [
       "<div>\n",
       "<style scoped>\n",
       "    .dataframe tbody tr th:only-of-type {\n",
       "        vertical-align: middle;\n",
       "    }\n",
       "\n",
       "    .dataframe tbody tr th {\n",
       "        vertical-align: top;\n",
       "    }\n",
       "\n",
       "    .dataframe thead th {\n",
       "        text-align: right;\n",
       "    }\n",
       "</style>\n",
       "<table border=\"1\" class=\"dataframe\">\n",
       "  <thead>\n",
       "    <tr style=\"text-align: right;\">\n",
       "      <th></th>\n",
       "      <th>Date</th>\n",
       "      <th>Value</th>\n",
       "      <th>value_date</th>\n",
       "    </tr>\n",
       "  </thead>\n",
       "  <tbody>\n",
       "    <tr>\n",
       "      <th>0</th>\n",
       "      <td>2024-06-30</td>\n",
       "      <td>0.0347</td>\n",
       "      <td>2024/06</td>\n",
       "    </tr>\n",
       "    <tr>\n",
       "      <th>1</th>\n",
       "      <td>2024-05-31</td>\n",
       "      <td>0.0480</td>\n",
       "      <td>2024/05</td>\n",
       "    </tr>\n",
       "    <tr>\n",
       "      <th>2</th>\n",
       "      <td>2024-04-30</td>\n",
       "      <td>-0.0416</td>\n",
       "      <td>2024/04</td>\n",
       "    </tr>\n",
       "    <tr>\n",
       "      <th>3</th>\n",
       "      <td>2024-03-31</td>\n",
       "      <td>0.0310</td>\n",
       "      <td>2024/03</td>\n",
       "    </tr>\n",
       "    <tr>\n",
       "      <th>4</th>\n",
       "      <td>2024-02-29</td>\n",
       "      <td>0.0517</td>\n",
       "      <td>2024/02</td>\n",
       "    </tr>\n",
       "  </tbody>\n",
       "</table>\n",
       "</div>"
      ],
      "text/plain": [
       "        Date   Value value_date\n",
       "0 2024-06-30  0.0347    2024/06\n",
       "1 2024-05-31  0.0480    2024/05\n",
       "2 2024-04-30 -0.0416    2024/04\n",
       "3 2024-03-31  0.0310    2024/03\n",
       "4 2024-02-29  0.0517    2024/02"
      ]
     },
     "execution_count": 132,
     "metadata": {},
     "output_type": "execute_result"
    }
   ],
   "source": [
    "df_index.head()"
   ]
  },
  {
   "cell_type": "code",
   "execution_count": 133,
   "metadata": {},
   "outputs": [
    {
     "data": {
      "text/plain": [
       "'market_equity'"
      ]
     },
     "execution_count": 133,
     "metadata": {},
     "output_type": "execute_result"
    }
   ],
   "source": [
    "n= 0\n",
    "list_factor[n]"
   ]
  },
  {
   "cell_type": "code",
   "execution_count": 134,
   "metadata": {},
   "outputs": [
    {
     "data": {
      "text/html": [
       "<div>\n",
       "<style scoped>\n",
       "    .dataframe tbody tr th:only-of-type {\n",
       "        vertical-align: middle;\n",
       "    }\n",
       "\n",
       "    .dataframe tbody tr th {\n",
       "        vertical-align: top;\n",
       "    }\n",
       "\n",
       "    .dataframe thead th {\n",
       "        text-align: right;\n",
       "    }\n",
       "</style>\n",
       "<table border=\"1\" class=\"dataframe\">\n",
       "  <thead>\n",
       "    <tr style=\"text-align: right;\">\n",
       "      <th></th>\n",
       "      <th>name</th>\n",
       "      <th>date</th>\n",
       "      <th>ret</th>\n",
       "      <th>new_date</th>\n",
       "    </tr>\n",
       "  </thead>\n",
       "  <tbody>\n",
       "    <tr>\n",
       "      <th>63091</th>\n",
       "      <td>market_equity</td>\n",
       "      <td>2020/01/31</td>\n",
       "      <td>-0.002362</td>\n",
       "      <td>2020/01</td>\n",
       "    </tr>\n",
       "    <tr>\n",
       "      <th>63092</th>\n",
       "      <td>market_equity</td>\n",
       "      <td>2020/02/29</td>\n",
       "      <td>0.013139</td>\n",
       "      <td>2020/02</td>\n",
       "    </tr>\n",
       "    <tr>\n",
       "      <th>63093</th>\n",
       "      <td>market_equity</td>\n",
       "      <td>2020/03/31</td>\n",
       "      <td>-0.056472</td>\n",
       "      <td>2020/03</td>\n",
       "    </tr>\n",
       "    <tr>\n",
       "      <th>63094</th>\n",
       "      <td>market_equity</td>\n",
       "      <td>2020/04/30</td>\n",
       "      <td>0.066234</td>\n",
       "      <td>2020/04</td>\n",
       "    </tr>\n",
       "    <tr>\n",
       "      <th>63095</th>\n",
       "      <td>market_equity</td>\n",
       "      <td>2020/05/31</td>\n",
       "      <td>0.005801</td>\n",
       "      <td>2020/05</td>\n",
       "    </tr>\n",
       "  </tbody>\n",
       "</table>\n",
       "</div>"
      ],
      "text/plain": [
       "                name        date       ret new_date\n",
       "63091  market_equity  2020/01/31 -0.002362  2020/01\n",
       "63092  market_equity  2020/02/29  0.013139  2020/02\n",
       "63093  market_equity  2020/03/31 -0.056472  2020/03\n",
       "63094  market_equity  2020/04/30  0.066234  2020/04\n",
       "63095  market_equity  2020/05/31  0.005801  2020/05"
      ]
     },
     "execution_count": 134,
     "metadata": {},
     "output_type": "execute_result"
    }
   ],
   "source": [
    "df_factor4= df_factor3[df_factor3['name']== list_factor[n]]\n",
    "df_factor4.head()"
   ]
  },
  {
   "cell_type": "code",
   "execution_count": 135,
   "metadata": {},
   "outputs": [
    {
     "data": {
      "text/html": [
       "<div>\n",
       "<style scoped>\n",
       "    .dataframe tbody tr th:only-of-type {\n",
       "        vertical-align: middle;\n",
       "    }\n",
       "\n",
       "    .dataframe tbody tr th {\n",
       "        vertical-align: top;\n",
       "    }\n",
       "\n",
       "    .dataframe thead th {\n",
       "        text-align: right;\n",
       "    }\n",
       "</style>\n",
       "<table border=\"1\" class=\"dataframe\">\n",
       "  <thead>\n",
       "    <tr style=\"text-align: right;\">\n",
       "      <th></th>\n",
       "      <th>Date</th>\n",
       "      <th>Value</th>\n",
       "      <th>value_date</th>\n",
       "      <th>name</th>\n",
       "      <th>date</th>\n",
       "      <th>ret</th>\n",
       "      <th>new_date</th>\n",
       "    </tr>\n",
       "  </thead>\n",
       "  <tbody>\n",
       "    <tr>\n",
       "      <th>0</th>\n",
       "      <td>2023-12-31</td>\n",
       "      <td>0.0442</td>\n",
       "      <td>2023/12</td>\n",
       "      <td>market_equity</td>\n",
       "      <td>2023/12/31</td>\n",
       "      <td>0.035934</td>\n",
       "      <td>2023/12</td>\n",
       "    </tr>\n",
       "    <tr>\n",
       "      <th>1</th>\n",
       "      <td>2023-11-30</td>\n",
       "      <td>0.0892</td>\n",
       "      <td>2023/11</td>\n",
       "      <td>market_equity</td>\n",
       "      <td>2023/11/30</td>\n",
       "      <td>-0.019387</td>\n",
       "      <td>2023/11</td>\n",
       "    </tr>\n",
       "    <tr>\n",
       "      <th>2</th>\n",
       "      <td>2023-10-31</td>\n",
       "      <td>-0.0220</td>\n",
       "      <td>2023/10</td>\n",
       "      <td>market_equity</td>\n",
       "      <td>2023/10/31</td>\n",
       "      <td>-0.045762</td>\n",
       "      <td>2023/10</td>\n",
       "    </tr>\n",
       "    <tr>\n",
       "      <th>3</th>\n",
       "      <td>2023-09-30</td>\n",
       "      <td>-0.0487</td>\n",
       "      <td>2023/09</td>\n",
       "      <td>market_equity</td>\n",
       "      <td>2023/09/30</td>\n",
       "      <td>-0.026257</td>\n",
       "      <td>2023/09</td>\n",
       "    </tr>\n",
       "    <tr>\n",
       "      <th>4</th>\n",
       "      <td>2023-08-31</td>\n",
       "      <td>-0.0177</td>\n",
       "      <td>2023/08</td>\n",
       "      <td>market_equity</td>\n",
       "      <td>2023/08/31</td>\n",
       "      <td>-0.051764</td>\n",
       "      <td>2023/08</td>\n",
       "    </tr>\n",
       "  </tbody>\n",
       "</table>\n",
       "</div>"
      ],
      "text/plain": [
       "        Date   Value value_date           name        date       ret new_date\n",
       "0 2023-12-31  0.0442    2023/12  market_equity  2023/12/31  0.035934  2023/12\n",
       "1 2023-11-30  0.0892    2023/11  market_equity  2023/11/30 -0.019387  2023/11\n",
       "2 2023-10-31 -0.0220    2023/10  market_equity  2023/10/31 -0.045762  2023/10\n",
       "3 2023-09-30 -0.0487    2023/09  market_equity  2023/09/30 -0.026257  2023/09\n",
       "4 2023-08-31 -0.0177    2023/08  market_equity  2023/08/31 -0.051764  2023/08"
      ]
     },
     "execution_count": 135,
     "metadata": {},
     "output_type": "execute_result"
    }
   ],
   "source": [
    "df_merge= pd.merge(df_index,df_factor4, left_on='value_date',right_on='new_date', how='inner')\n",
    "df_merge.head()"
   ]
  },
  {
   "cell_type": "code",
   "execution_count": 136,
   "metadata": {},
   "outputs": [
    {
     "data": {
      "text/html": [
       "<div>\n",
       "<style scoped>\n",
       "    .dataframe tbody tr th:only-of-type {\n",
       "        vertical-align: middle;\n",
       "    }\n",
       "\n",
       "    .dataframe tbody tr th {\n",
       "        vertical-align: top;\n",
       "    }\n",
       "\n",
       "    .dataframe thead th {\n",
       "        text-align: right;\n",
       "    }\n",
       "</style>\n",
       "<table border=\"1\" class=\"dataframe\">\n",
       "  <thead>\n",
       "    <tr style=\"text-align: right;\">\n",
       "      <th></th>\n",
       "      <th>Date</th>\n",
       "      <th>index_return</th>\n",
       "      <th>value_date</th>\n",
       "      <th>factor_name</th>\n",
       "      <th>date</th>\n",
       "      <th>factor_return</th>\n",
       "      <th>year_month</th>\n",
       "    </tr>\n",
       "  </thead>\n",
       "  <tbody>\n",
       "    <tr>\n",
       "      <th>0</th>\n",
       "      <td>2023-12-31</td>\n",
       "      <td>0.0442</td>\n",
       "      <td>2023/12</td>\n",
       "      <td>market_equity</td>\n",
       "      <td>2023/12/31</td>\n",
       "      <td>0.035934</td>\n",
       "      <td>2023/12</td>\n",
       "    </tr>\n",
       "    <tr>\n",
       "      <th>1</th>\n",
       "      <td>2023-11-30</td>\n",
       "      <td>0.0892</td>\n",
       "      <td>2023/11</td>\n",
       "      <td>market_equity</td>\n",
       "      <td>2023/11/30</td>\n",
       "      <td>-0.019387</td>\n",
       "      <td>2023/11</td>\n",
       "    </tr>\n",
       "    <tr>\n",
       "      <th>2</th>\n",
       "      <td>2023-10-31</td>\n",
       "      <td>-0.0220</td>\n",
       "      <td>2023/10</td>\n",
       "      <td>market_equity</td>\n",
       "      <td>2023/10/31</td>\n",
       "      <td>-0.045762</td>\n",
       "      <td>2023/10</td>\n",
       "    </tr>\n",
       "    <tr>\n",
       "      <th>3</th>\n",
       "      <td>2023-09-30</td>\n",
       "      <td>-0.0487</td>\n",
       "      <td>2023/09</td>\n",
       "      <td>market_equity</td>\n",
       "      <td>2023/09/30</td>\n",
       "      <td>-0.026257</td>\n",
       "      <td>2023/09</td>\n",
       "    </tr>\n",
       "    <tr>\n",
       "      <th>4</th>\n",
       "      <td>2023-08-31</td>\n",
       "      <td>-0.0177</td>\n",
       "      <td>2023/08</td>\n",
       "      <td>market_equity</td>\n",
       "      <td>2023/08/31</td>\n",
       "      <td>-0.051764</td>\n",
       "      <td>2023/08</td>\n",
       "    </tr>\n",
       "  </tbody>\n",
       "</table>\n",
       "</div>"
      ],
      "text/plain": [
       "        Date  index_return value_date    factor_name        date  \\\n",
       "0 2023-12-31        0.0442    2023/12  market_equity  2023/12/31   \n",
       "1 2023-11-30        0.0892    2023/11  market_equity  2023/11/30   \n",
       "2 2023-10-31       -0.0220    2023/10  market_equity  2023/10/31   \n",
       "3 2023-09-30       -0.0487    2023/09  market_equity  2023/09/30   \n",
       "4 2023-08-31       -0.0177    2023/08  market_equity  2023/08/31   \n",
       "\n",
       "   factor_return year_month  \n",
       "0       0.035934    2023/12  \n",
       "1      -0.019387    2023/11  \n",
       "2      -0.045762    2023/10  \n",
       "3      -0.026257    2023/09  \n",
       "4      -0.051764    2023/08  "
      ]
     },
     "execution_count": 136,
     "metadata": {},
     "output_type": "execute_result"
    }
   ],
   "source": [
    "df_merge2= df_merge.rename(columns={'Value':'index_return','ret':'factor_return','new_date':'year_month','name':'factor_name'})\n",
    "df_merge2.head()"
   ]
  },
  {
   "cell_type": "code",
   "execution_count": 137,
   "metadata": {},
   "outputs": [
    {
     "data": {
      "text/html": [
       "<div>\n",
       "<style scoped>\n",
       "    .dataframe tbody tr th:only-of-type {\n",
       "        vertical-align: middle;\n",
       "    }\n",
       "\n",
       "    .dataframe tbody tr th {\n",
       "        vertical-align: top;\n",
       "    }\n",
       "\n",
       "    .dataframe thead th {\n",
       "        text-align: right;\n",
       "    }\n",
       "</style>\n",
       "<table border=\"1\" class=\"dataframe\">\n",
       "  <thead>\n",
       "    <tr style=\"text-align: right;\">\n",
       "      <th></th>\n",
       "      <th>factor_name</th>\n",
       "      <th>year_month</th>\n",
       "      <th>index_return</th>\n",
       "      <th>factor_return</th>\n",
       "    </tr>\n",
       "  </thead>\n",
       "  <tbody>\n",
       "    <tr>\n",
       "      <th>0</th>\n",
       "      <td>market_equity</td>\n",
       "      <td>2023/12</td>\n",
       "      <td>0.0442</td>\n",
       "      <td>0.035934</td>\n",
       "    </tr>\n",
       "    <tr>\n",
       "      <th>1</th>\n",
       "      <td>market_equity</td>\n",
       "      <td>2023/11</td>\n",
       "      <td>0.0892</td>\n",
       "      <td>-0.019387</td>\n",
       "    </tr>\n",
       "    <tr>\n",
       "      <th>2</th>\n",
       "      <td>market_equity</td>\n",
       "      <td>2023/10</td>\n",
       "      <td>-0.0220</td>\n",
       "      <td>-0.045762</td>\n",
       "    </tr>\n",
       "    <tr>\n",
       "      <th>3</th>\n",
       "      <td>market_equity</td>\n",
       "      <td>2023/09</td>\n",
       "      <td>-0.0487</td>\n",
       "      <td>-0.026257</td>\n",
       "    </tr>\n",
       "    <tr>\n",
       "      <th>4</th>\n",
       "      <td>market_equity</td>\n",
       "      <td>2023/08</td>\n",
       "      <td>-0.0177</td>\n",
       "      <td>-0.051764</td>\n",
       "    </tr>\n",
       "  </tbody>\n",
       "</table>\n",
       "</div>"
      ],
      "text/plain": [
       "     factor_name year_month  index_return  factor_return\n",
       "0  market_equity    2023/12        0.0442       0.035934\n",
       "1  market_equity    2023/11        0.0892      -0.019387\n",
       "2  market_equity    2023/10       -0.0220      -0.045762\n",
       "3  market_equity    2023/09       -0.0487      -0.026257\n",
       "4  market_equity    2023/08       -0.0177      -0.051764"
      ]
     },
     "execution_count": 137,
     "metadata": {},
     "output_type": "execute_result"
    }
   ],
   "source": [
    "df_factor5=df_merge2[['factor_name','year_month','index_return','factor_return']]\n",
    "df_factor5.head()"
   ]
  },
  {
   "cell_type": "code",
   "execution_count": 138,
   "metadata": {},
   "outputs": [],
   "source": [
    "final1= df_factor5"
   ]
  },
  {
   "cell_type": "code",
   "execution_count": 139,
   "metadata": {},
   "outputs": [
    {
     "data": {
      "text/plain": [
       "-0.04458631040182193"
      ]
     },
     "execution_count": 139,
     "metadata": {},
     "output_type": "execute_result"
    }
   ],
   "source": [
    "np.corrcoef(final1['index_return'], final1['factor_return'])[0,1]"
   ]
  },
  {
   "cell_type": "code",
   "execution_count": 140,
   "metadata": {},
   "outputs": [],
   "source": [
    "import statsmodels.api as sm"
   ]
  },
  {
   "cell_type": "code",
   "execution_count": 141,
   "metadata": {},
   "outputs": [
    {
     "name": "stderr",
     "output_type": "stream",
     "text": [
      "C:\\Users\\siava\\AppData\\Local\\Temp\\ipykernel_10476\\3521324233.py:1: SettingWithCopyWarning: \n",
      "A value is trying to be set on a copy of a slice from a DataFrame.\n",
      "Try using .loc[row_indexer,col_indexer] = value instead\n",
      "\n",
      "See the caveats in the documentation: https://pandas.pydata.org/pandas-docs/stable/user_guide/indexing.html#returning-a-view-versus-a-copy\n",
      "  final1['intercept']= 1\n"
     ]
    },
    {
     "data": {
      "text/html": [
       "<div>\n",
       "<style scoped>\n",
       "    .dataframe tbody tr th:only-of-type {\n",
       "        vertical-align: middle;\n",
       "    }\n",
       "\n",
       "    .dataframe tbody tr th {\n",
       "        vertical-align: top;\n",
       "    }\n",
       "\n",
       "    .dataframe thead th {\n",
       "        text-align: right;\n",
       "    }\n",
       "</style>\n",
       "<table border=\"1\" class=\"dataframe\">\n",
       "  <thead>\n",
       "    <tr style=\"text-align: right;\">\n",
       "      <th></th>\n",
       "      <th>factor_name</th>\n",
       "      <th>year_month</th>\n",
       "      <th>index_return</th>\n",
       "      <th>factor_return</th>\n",
       "      <th>intercept</th>\n",
       "    </tr>\n",
       "  </thead>\n",
       "  <tbody>\n",
       "    <tr>\n",
       "      <th>0</th>\n",
       "      <td>market_equity</td>\n",
       "      <td>2023/12</td>\n",
       "      <td>0.0442</td>\n",
       "      <td>0.035934</td>\n",
       "      <td>1</td>\n",
       "    </tr>\n",
       "    <tr>\n",
       "      <th>1</th>\n",
       "      <td>market_equity</td>\n",
       "      <td>2023/11</td>\n",
       "      <td>0.0892</td>\n",
       "      <td>-0.019387</td>\n",
       "      <td>1</td>\n",
       "    </tr>\n",
       "    <tr>\n",
       "      <th>2</th>\n",
       "      <td>market_equity</td>\n",
       "      <td>2023/10</td>\n",
       "      <td>-0.0220</td>\n",
       "      <td>-0.045762</td>\n",
       "      <td>1</td>\n",
       "    </tr>\n",
       "    <tr>\n",
       "      <th>3</th>\n",
       "      <td>market_equity</td>\n",
       "      <td>2023/09</td>\n",
       "      <td>-0.0487</td>\n",
       "      <td>-0.026257</td>\n",
       "      <td>1</td>\n",
       "    </tr>\n",
       "    <tr>\n",
       "      <th>4</th>\n",
       "      <td>market_equity</td>\n",
       "      <td>2023/08</td>\n",
       "      <td>-0.0177</td>\n",
       "      <td>-0.051764</td>\n",
       "      <td>1</td>\n",
       "    </tr>\n",
       "  </tbody>\n",
       "</table>\n",
       "</div>"
      ],
      "text/plain": [
       "     factor_name year_month  index_return  factor_return  intercept\n",
       "0  market_equity    2023/12        0.0442       0.035934          1\n",
       "1  market_equity    2023/11        0.0892      -0.019387          1\n",
       "2  market_equity    2023/10       -0.0220      -0.045762          1\n",
       "3  market_equity    2023/09       -0.0487      -0.026257          1\n",
       "4  market_equity    2023/08       -0.0177      -0.051764          1"
      ]
     },
     "execution_count": 141,
     "metadata": {},
     "output_type": "execute_result"
    }
   ],
   "source": [
    "final1['intercept']= 1\n",
    "final1.head()"
   ]
  },
  {
   "cell_type": "code",
   "execution_count": 142,
   "metadata": {},
   "outputs": [
    {
     "data": {
      "text/html": [
       "<table class=\"simpletable\">\n",
       "<caption>OLS Regression Results</caption>\n",
       "<tr>\n",
       "  <th>Dep. Variable:</th>      <td>index_return</td>   <th>  R-squared:         </th> <td>   0.002</td>\n",
       "</tr>\n",
       "<tr>\n",
       "  <th>Model:</th>                   <td>OLS</td>       <th>  Adj. R-squared:    </th> <td>  -0.022</td>\n",
       "</tr>\n",
       "<tr>\n",
       "  <th>Method:</th>             <td>Least Squares</td>  <th>  F-statistic:       </th> <td> 0.08366</td>\n",
       "</tr>\n",
       "<tr>\n",
       "  <th>Date:</th>             <td>Tue, 06 Aug 2024</td> <th>  Prob (F-statistic):</th>  <td> 0.774</td> \n",
       "</tr>\n",
       "<tr>\n",
       "  <th>Time:</th>                 <td>20:45:05</td>     <th>  Log-Likelihood:    </th> <td>  69.325</td>\n",
       "</tr>\n",
       "<tr>\n",
       "  <th>No. Observations:</th>      <td>    44</td>      <th>  AIC:               </th> <td>  -134.6</td>\n",
       "</tr>\n",
       "<tr>\n",
       "  <th>Df Residuals:</th>          <td>    42</td>      <th>  BIC:               </th> <td>  -131.1</td>\n",
       "</tr>\n",
       "<tr>\n",
       "  <th>Df Model:</th>              <td>     1</td>      <th>                     </th>     <td> </td>   \n",
       "</tr>\n",
       "<tr>\n",
       "  <th>Covariance Type:</th>      <td>nonrobust</td>    <th>                     </th>     <td> </td>   \n",
       "</tr>\n",
       "</table>\n",
       "<table class=\"simpletable\">\n",
       "<tr>\n",
       "        <td></td>           <th>coef</th>     <th>std err</th>      <th>t</th>      <th>P>|t|</th>  <th>[0.025</th>    <th>0.975]</th>  \n",
       "</tr>\n",
       "<tr>\n",
       "  <th>factor_return</th> <td>   -0.0468</td> <td>    0.162</td> <td>   -0.289</td> <td> 0.774</td> <td>   -0.373</td> <td>    0.280</td>\n",
       "</tr>\n",
       "<tr>\n",
       "  <th>intercept</th>     <td>    0.0124</td> <td>    0.008</td> <td>    1.604</td> <td> 0.116</td> <td>   -0.003</td> <td>    0.028</td>\n",
       "</tr>\n",
       "</table>\n",
       "<table class=\"simpletable\">\n",
       "<tr>\n",
       "  <th>Omnibus:</th>       <td> 1.743</td> <th>  Durbin-Watson:     </th> <td>   2.333</td>\n",
       "</tr>\n",
       "<tr>\n",
       "  <th>Prob(Omnibus):</th> <td> 0.418</td> <th>  Jarque-Bera (JB):  </th> <td>   1.498</td>\n",
       "</tr>\n",
       "<tr>\n",
       "  <th>Skew:</th>          <td>-0.304</td> <th>  Prob(JB):          </th> <td>   0.473</td>\n",
       "</tr>\n",
       "<tr>\n",
       "  <th>Kurtosis:</th>      <td> 2.331</td> <th>  Cond. No.          </th> <td>    20.9</td>\n",
       "</tr>\n",
       "</table><br/><br/>Notes:<br/>[1] Standard Errors assume that the covariance matrix of the errors is correctly specified."
      ],
      "text/latex": [
       "\\begin{center}\n",
       "\\begin{tabular}{lclc}\n",
       "\\toprule\n",
       "\\textbf{Dep. Variable:}    &  index\\_return   & \\textbf{  R-squared:         } &     0.002   \\\\\n",
       "\\textbf{Model:}            &       OLS        & \\textbf{  Adj. R-squared:    } &    -0.022   \\\\\n",
       "\\textbf{Method:}           &  Least Squares   & \\textbf{  F-statistic:       } &   0.08366   \\\\\n",
       "\\textbf{Date:}             & Tue, 06 Aug 2024 & \\textbf{  Prob (F-statistic):} &    0.774    \\\\\n",
       "\\textbf{Time:}             &     20:45:05     & \\textbf{  Log-Likelihood:    } &    69.325   \\\\\n",
       "\\textbf{No. Observations:} &          44      & \\textbf{  AIC:               } &    -134.6   \\\\\n",
       "\\textbf{Df Residuals:}     &          42      & \\textbf{  BIC:               } &    -131.1   \\\\\n",
       "\\textbf{Df Model:}         &           1      & \\textbf{                     } &             \\\\\n",
       "\\textbf{Covariance Type:}  &    nonrobust     & \\textbf{                     } &             \\\\\n",
       "\\bottomrule\n",
       "\\end{tabular}\n",
       "\\begin{tabular}{lcccccc}\n",
       "                        & \\textbf{coef} & \\textbf{std err} & \\textbf{t} & \\textbf{P$> |$t$|$} & \\textbf{[0.025} & \\textbf{0.975]}  \\\\\n",
       "\\midrule\n",
       "\\textbf{factor\\_return} &      -0.0468  &        0.162     &    -0.289  &         0.774        &       -0.373    &        0.280     \\\\\n",
       "\\textbf{intercept}      &       0.0124  &        0.008     &     1.604  &         0.116        &       -0.003    &        0.028     \\\\\n",
       "\\bottomrule\n",
       "\\end{tabular}\n",
       "\\begin{tabular}{lclc}\n",
       "\\textbf{Omnibus:}       &  1.743 & \\textbf{  Durbin-Watson:     } &    2.333  \\\\\n",
       "\\textbf{Prob(Omnibus):} &  0.418 & \\textbf{  Jarque-Bera (JB):  } &    1.498  \\\\\n",
       "\\textbf{Skew:}          & -0.304 & \\textbf{  Prob(JB):          } &    0.473  \\\\\n",
       "\\textbf{Kurtosis:}      &  2.331 & \\textbf{  Cond. No.          } &     20.9  \\\\\n",
       "\\bottomrule\n",
       "\\end{tabular}\n",
       "%\\caption{OLS Regression Results}\n",
       "\\end{center}\n",
       "\n",
       "Notes: \\newline\n",
       " [1] Standard Errors assume that the covariance matrix of the errors is correctly specified."
      ],
      "text/plain": [
       "<class 'statsmodels.iolib.summary.Summary'>\n",
       "\"\"\"\n",
       "                            OLS Regression Results                            \n",
       "==============================================================================\n",
       "Dep. Variable:           index_return   R-squared:                       0.002\n",
       "Model:                            OLS   Adj. R-squared:                 -0.022\n",
       "Method:                 Least Squares   F-statistic:                   0.08366\n",
       "Date:                Tue, 06 Aug 2024   Prob (F-statistic):              0.774\n",
       "Time:                        20:45:05   Log-Likelihood:                 69.325\n",
       "No. Observations:                  44   AIC:                            -134.6\n",
       "Df Residuals:                      42   BIC:                            -131.1\n",
       "Df Model:                           1                                         \n",
       "Covariance Type:            nonrobust                                         \n",
       "=================================================================================\n",
       "                    coef    std err          t      P>|t|      [0.025      0.975]\n",
       "---------------------------------------------------------------------------------\n",
       "factor_return    -0.0468      0.162     -0.289      0.774      -0.373       0.280\n",
       "intercept         0.0124      0.008      1.604      0.116      -0.003       0.028\n",
       "==============================================================================\n",
       "Omnibus:                        1.743   Durbin-Watson:                   2.333\n",
       "Prob(Omnibus):                  0.418   Jarque-Bera (JB):                1.498\n",
       "Skew:                          -0.304   Prob(JB):                        0.473\n",
       "Kurtosis:                       2.331   Cond. No.                         20.9\n",
       "==============================================================================\n",
       "\n",
       "Notes:\n",
       "[1] Standard Errors assume that the covariance matrix of the errors is correctly specified.\n",
       "\"\"\""
      ]
     },
     "execution_count": 142,
     "metadata": {},
     "output_type": "execute_result"
    }
   ],
   "source": [
    "lm = sm.OLS(final1['index_return'] , final1[['factor_return','intercept']])\n",
    "lm.fit().summary()"
   ]
  },
  {
   "cell_type": "code",
   "execution_count": 143,
   "metadata": {},
   "outputs": [
    {
     "data": {
      "text/html": [
       "<div>\n",
       "<style scoped>\n",
       "    .dataframe tbody tr th:only-of-type {\n",
       "        vertical-align: middle;\n",
       "    }\n",
       "\n",
       "    .dataframe tbody tr th {\n",
       "        vertical-align: top;\n",
       "    }\n",
       "\n",
       "    .dataframe thead th {\n",
       "        text-align: right;\n",
       "    }\n",
       "</style>\n",
       "<table border=\"1\" class=\"dataframe\">\n",
       "  <thead>\n",
       "    <tr style=\"text-align: right;\">\n",
       "      <th></th>\n",
       "      <th>name</th>\n",
       "      <th>date</th>\n",
       "      <th>ret</th>\n",
       "      <th>new_date</th>\n",
       "    </tr>\n",
       "  </thead>\n",
       "  <tbody>\n",
       "    <tr>\n",
       "      <th>15946</th>\n",
       "      <td>bidaskhl_21d</td>\n",
       "      <td>2020/01/31</td>\n",
       "      <td>0.004402</td>\n",
       "      <td>2020/01</td>\n",
       "    </tr>\n",
       "    <tr>\n",
       "      <th>15947</th>\n",
       "      <td>bidaskhl_21d</td>\n",
       "      <td>2020/02/29</td>\n",
       "      <td>0.013359</td>\n",
       "      <td>2020/02</td>\n",
       "    </tr>\n",
       "    <tr>\n",
       "      <th>15948</th>\n",
       "      <td>bidaskhl_21d</td>\n",
       "      <td>2020/03/31</td>\n",
       "      <td>-0.063263</td>\n",
       "      <td>2020/03</td>\n",
       "    </tr>\n",
       "    <tr>\n",
       "      <th>15949</th>\n",
       "      <td>bidaskhl_21d</td>\n",
       "      <td>2020/04/30</td>\n",
       "      <td>0.105975</td>\n",
       "      <td>2020/04</td>\n",
       "    </tr>\n",
       "    <tr>\n",
       "      <th>15950</th>\n",
       "      <td>bidaskhl_21d</td>\n",
       "      <td>2020/05/31</td>\n",
       "      <td>0.035376</td>\n",
       "      <td>2020/05</td>\n",
       "    </tr>\n",
       "  </tbody>\n",
       "</table>\n",
       "</div>"
      ],
      "text/plain": [
       "               name        date       ret new_date\n",
       "15946  bidaskhl_21d  2020/01/31  0.004402  2020/01\n",
       "15947  bidaskhl_21d  2020/02/29  0.013359  2020/02\n",
       "15948  bidaskhl_21d  2020/03/31 -0.063263  2020/03\n",
       "15949  bidaskhl_21d  2020/04/30  0.105975  2020/04\n",
       "15950  bidaskhl_21d  2020/05/31  0.035376  2020/05"
      ]
     },
     "execution_count": 143,
     "metadata": {},
     "output_type": "execute_result"
    }
   ],
   "source": [
    "df_factor3.head()"
   ]
  },
  {
   "cell_type": "code",
   "execution_count": 144,
   "metadata": {},
   "outputs": [
    {
     "data": {
      "text/plain": [
       "['market_equity',\n",
       " 'prc',\n",
       " 'rmax1_21d',\n",
       " 'ret_1_0',\n",
       " 'zero_trades_21d',\n",
       " 'iskew_capm_21d',\n",
       " 'ivol_capm_21d',\n",
       " 'rvol_21d',\n",
       " 'rskew_21d',\n",
       " 'bidaskhl_21d']"
      ]
     },
     "execution_count": 144,
     "metadata": {},
     "output_type": "execute_result"
    }
   ],
   "source": [
    "list_factor"
   ]
  },
  {
   "cell_type": "code",
   "execution_count": 149,
   "metadata": {},
   "outputs": [],
   "source": [
    "total_return= {}\n",
    "for i in list_factor:\n",
    "    df1=df_factor3[df_factor3['name']==i]\n",
    "    df2=pd.merge(df_index,df1,left_on='value_date',right_on='new_date',how='inner')\n",
    "    total_return[i]=np.corrcoef(df2['ret'],df2['Value'])[0,1]\n"
   ]
  },
  {
   "cell_type": "code",
   "execution_count": 150,
   "metadata": {},
   "outputs": [
    {
     "data": {
      "text/plain": [
       "{'market_equity': -0.04458631040182193,\n",
       " 'prc': 0.036929223344540074,\n",
       " 'rmax1_21d': -0.4510237529170159,\n",
       " 'ret_1_0': 0.2991285550062347,\n",
       " 'zero_trades_21d': -0.4562461202859602,\n",
       " 'iskew_capm_21d': -0.07383996864137253,\n",
       " 'ivol_capm_21d': -0.4305939609481767,\n",
       " 'rvol_21d': -0.4693619909073014,\n",
       " 'rskew_21d': -0.11141947292819632,\n",
       " 'bidaskhl_21d': 0.4273098876842883}"
      ]
     },
     "execution_count": 150,
     "metadata": {},
     "output_type": "execute_result"
    }
   ],
   "source": [
    "total_return"
   ]
  },
  {
   "cell_type": "code",
   "execution_count": 154,
   "metadata": {},
   "outputs": [
    {
     "data": {
      "text/plain": [
       "0.4693619909073014"
      ]
     },
     "execution_count": 154,
     "metadata": {},
     "output_type": "execute_result"
    }
   ],
   "source": [
    "my_max= max([abs(i) for i in total_return.values()])\n",
    "my_max"
   ]
  },
  {
   "cell_type": "code",
   "execution_count": 153,
   "metadata": {},
   "outputs": [
    {
     "data": {
      "text/plain": [
       "['rvol_21d']"
      ]
     },
     "execution_count": 153,
     "metadata": {},
     "output_type": "execute_result"
    }
   ],
   "source": [
    "[i for (i,j) in total_return.items() if j==my_max or j== my_max*-1]"
   ]
  }
 ],
 "metadata": {
  "kernelspec": {
   "display_name": "Python 3",
   "language": "python",
   "name": "python3"
  },
  "language_info": {
   "codemirror_mode": {
    "name": "ipython",
    "version": 3
   },
   "file_extension": ".py",
   "mimetype": "text/x-python",
   "name": "python",
   "nbconvert_exporter": "python",
   "pygments_lexer": "ipython3",
   "version": "3.12.4"
  }
 },
 "nbformat": 4,
 "nbformat_minor": 2
}
